{
 "cells": [
  {
   "cell_type": "code",
   "execution_count": 2,
   "metadata": {},
   "outputs": [],
   "source": [
    "import os\n",
    "import pandas as pd\n",
    "import numpy as np\n",
    "import matplotlib.pyplot as plt\n",
    "import json\n",
    "import requests\n",
    "import responses\n",
    "import urllib.request"
   ]
  },
  {
   "cell_type": "code",
   "execution_count": 3,
   "metadata": {},
   "outputs": [],
   "source": [
    "DTGdata = pd.read_csv('./주행 데이터/편현구/편현구.csv')"
   ]
  },
  {
   "cell_type": "code",
   "execution_count": 4,
   "metadata": {},
   "outputs": [],
   "source": [
    "vehicle_regulation = pd.read_csv('./vehicle_regulation.csv',index_col = 0)"
   ]
  },
  {
   "cell_type": "code",
   "execution_count": 5,
   "metadata": {},
   "outputs": [],
   "source": [
    "hz = 5"
   ]
  },
  {
   "cell_type": "code",
   "execution_count": 6,
   "metadata": {
    "scrolled": true
   },
   "outputs": [],
   "source": [
    "DTGdata.drop(['time'],axis=1,inplace=True)"
   ]
  },
  {
   "cell_type": "code",
   "execution_count": 7,
   "metadata": {},
   "outputs": [],
   "source": [
    "DTGdata.rename(columns={'Unnamed: 0':'time'},inplace=True)"
   ]
  },
  {
   "cell_type": "code",
   "execution_count": 20,
   "metadata": {},
   "outputs": [],
   "source": [
    "def find_period(DTG_buffer):\n",
    "    buffer = []\n",
    "    if len(DTG_buffer) != 0:\n",
    "        buffer.append(DTG_buffer[0])\n",
    "        for i in range(1,len(DTG_buffer)):\n",
    "            if ((DTG_buffer[i]-DTG_buffer[i-1]) > 1):\n",
    "                buffer.append(DTG_buffer[i-1])\n",
    "                buffer.append(DTG_buffer[i])\n",
    "        buffer.append(DTG_buffer[-1])\n",
    "\n",
    "    return buffer"
   ]
  },
  {
   "cell_type": "code",
   "execution_count": 21,
   "metadata": {},
   "outputs": [],
   "source": [
    "def check_over_speed(DTGdata,vehicle):\n",
    "    \n",
    "    \n",
    "    buffer_over_speed = DTGdata[(DTGdata['velocity'] > (vehicle_regulation[vehicle]['accel_lim'] + DTGdata['road_limit'])) & \n",
    "                               (DTGdata['road_limit']>0)].index\n",
    "    buffer_long_accel = []\n",
    "    \n",
    "    for i in range(vehicle_regulation[vehicle]['long_accel_sec']*hz,len(DTGdata)):\n",
    "        \n",
    "        if(DTGdata[(DTGdata.index >= i - vehicle_regulation[vehicle]['long_accel_sec']*hz) & (DTGdata.index <i) & \n",
    "                   (DTGdata['velocity'] <= (vehicle_regulation[vehicle]['long_accel_lim'] + DTGdata['road_limit']))].empty):\n",
    "            \n",
    "            buffer_long_accel.append(i)\n",
    "    \n",
    "    buffer_over_speed_period = find_period(buffer_over_speed)\n",
    "    buffer_long_accel_period = find_period(buffer_long_accel)\n",
    "    \n",
    "    if(len(buffer_over_speed)!=0):\n",
    "        print(len(DTGdata)/hz,'초 중 ',\n",
    "              len(buffer_over_speed)/hz,'초 동안 과속했습니다.')\n",
    "    if(len(buffer_long_accel)!=0):\n",
    "        print(len(DTGdata)/hz,'초 중 ',\n",
    "              (len(buffer_long_accel)+vehicle_regulation[vehicle]['long_accel_sec'])/hz,'초 동안 장기과속했습니다.')\n",
    "\n",
    "    return buffer_over_speed_period,buffer_long_accel_period"
   ]
  },
  {
   "cell_type": "code",
   "execution_count": 22,
   "metadata": {},
   "outputs": [
    {
     "name": "stdout",
     "output_type": "stream",
     "text": [
      "539.6 초 중  58.4 초 동안 과속했습니다.\n"
     ]
    }
   ],
   "source": [
    "over_speed_period,long_accel_period = check_over_speed(DTGdata,'truck')"
   ]
  },
  {
   "cell_type": "code",
   "execution_count": 23,
   "metadata": {},
   "outputs": [
    {
     "data": {
      "text/plain": [
       "array([ 984, 1023, 1628, 1631, 1795, 1833, 1958, 2015, 2169, 2295, 2314,\n",
       "       2314, 2418, 2440], dtype=int64)"
      ]
     },
     "execution_count": 23,
     "metadata": {},
     "output_type": "execute_result"
    }
   ],
   "source": [
    "np.array(over_speed_period)"
   ]
  },
  {
   "cell_type": "code",
   "execution_count": 24,
   "metadata": {},
   "outputs": [
    {
     "data": {
      "text/plain": [
       "[]"
      ]
     },
     "execution_count": 24,
     "metadata": {},
     "output_type": "execute_result"
    }
   ],
   "source": [
    "long_accel_period"
   ]
  },
  {
   "cell_type": "code",
   "execution_count": 25,
   "metadata": {},
   "outputs": [],
   "source": [
    "def check_rapid_accel(DTGdata,vehicle):\n",
    "    \n",
    "    buffer_rapid_accel = []\n",
    "    buffer_rapid_start = []\n",
    "    \n",
    "    for i in range(1*hz,len(DTGdata)):\n",
    "        \n",
    "        is_rapid_accel = (((DTGdata['velocity'][i]-DTGdata['velocity'][i-1*hz]) >= vehicle_regulation[vehicle]['rapid_accel_acceleration']) &\n",
    "                         (DTGdata['velocity'][i] >= vehicle_regulation[vehicle]['rapid_accel_threshold']))\n",
    "        \n",
    "        is_rapid_start = (((DTGdata['velocity'][i]-DTGdata['velocity'][i-1*hz]) >= vehicle_regulation[vehicle]['rapid_start_acceleration']) &\n",
    "                         (DTGdata['velocity'][i] <= vehicle_regulation[vehicle]['rapid_start_threshold']))\n",
    "        \n",
    "        if is_rapid_accel==1:\n",
    "            buffer_rapid_accel.append(i)\n",
    "         \n",
    "        if is_rapid_start==1:\n",
    "            buffer_rapid_start.append(i)\n",
    "    \n",
    "    buffer_rapid_accel_period = find_period(buffer_rapid_accel)\n",
    "    buffer_rapid_start_period = find_period(buffer_rapid_start)\n",
    "    \n",
    "    \n",
    "    if(len(buffer_rapid_accel)!=0):\n",
    "        print(len(DTGdata)/hz,'초 중 ',len(buffer_rapid_accel)/hz,'초 동안 급가속했습니다.')\n",
    "    if(len(buffer_rapid_start)!=0):\n",
    "        print(len(DTGdata)/hz,'초 중 ',len(buffer_rapid_start)/hz,'초 동안 급출발했습니다.')\n",
    "\n",
    "    return buffer_rapid_accel_period,buffer_rapid_start_period"
   ]
  },
  {
   "cell_type": "code",
   "execution_count": 26,
   "metadata": {
    "collapsed": true
   },
   "outputs": [
    {
     "name": "stdout",
     "output_type": "stream",
     "text": [
      "539.6 초 중  27.8 초 동안 급가속했습니다.\n",
      "539.6 초 중  1.8 초 동안 급출발했습니다.\n"
     ]
    },
    {
     "data": {
      "text/plain": [
       "([72,\n",
       "  77,\n",
       "  85,\n",
       "  88,\n",
       "  94,\n",
       "  95,\n",
       "  104,\n",
       "  107,\n",
       "  150,\n",
       "  160,\n",
       "  165,\n",
       "  168,\n",
       "  171,\n",
       "  174,\n",
       "  295,\n",
       "  309,\n",
       "  313,\n",
       "  315,\n",
       "  391,\n",
       "  395,\n",
       "  437,\n",
       "  443,\n",
       "  445,\n",
       "  451,\n",
       "  455,\n",
       "  457,\n",
       "  466,\n",
       "  468,\n",
       "  508,\n",
       "  515,\n",
       "  520,\n",
       "  528,\n",
       "  2308,\n",
       "  2308,\n",
       "  2328,\n",
       "  2335,\n",
       "  2339,\n",
       "  2341,\n",
       "  2351,\n",
       "  2352,\n",
       "  2459,\n",
       "  2463,\n",
       "  2466,\n",
       "  2472,\n",
       "  2477,\n",
       "  2480,\n",
       "  2609,\n",
       "  2614,\n",
       "  2624,\n",
       "  2627,\n",
       "  2632,\n",
       "  2634,\n",
       "  2677,\n",
       "  2677],\n",
       " [61, 61, 63, 65, 67, 67, 251, 254])"
      ]
     },
     "execution_count": 26,
     "metadata": {},
     "output_type": "execute_result"
    }
   ],
   "source": [
    "check_rapid_accel(DTGdata,'truck')"
   ]
  },
  {
   "cell_type": "code",
   "execution_count": 27,
   "metadata": {},
   "outputs": [],
   "source": [
    "def check_rapid_brake(DTGdata,vehicle):\n",
    "    \n",
    "    buffer_rapid_decel = []\n",
    "    buffer_rapid_stop = []\n",
    "    \n",
    "    for i in range(1,len(DTGdata)):\n",
    "        \n",
    "        is_rapid_decel = (((DTGdata['velocity'][i-1]-DTGdata['velocity'][i])*hz >= vehicle_regulation[vehicle]['rapid_decel_deceleration']) &\n",
    "                          (DTGdata['velocity'][i] >= vehicle_regulation[vehicle]['rapid_decel_threshold']))\n",
    "        is_rapid_stop = (((DTGdata['velocity'][i-1]-DTGdata['velocity'][i])*hz >= vehicle_regulation[vehicle]['rapid_stop_deceleration']) &\n",
    "                         (DTGdata['velocity'][i] <= vehicle_regulation[vehicle]['rapid_stop_threshold']))\n",
    "        \n",
    "        if is_rapid_decel :\n",
    "            buffer_rapid_decel.append(i)\n",
    "            \n",
    "        if is_rapid_stop :\n",
    "            buffer_rapid_stop.append(i)\n",
    "            \n",
    "    buffer_rapid_decel_period = find_period(buffer_rapid_decel)\n",
    "    buffer_rapid_stop_period = find_period(buffer_rapid_stop)\n",
    "            \n",
    "            \n",
    "    if(len(buffer_rapid_decel)!=0):\n",
    "        print(len(DTGdata)/hz,'초 중 ',len(buffer_rapid_decel)/hz,'초 동안 급감속했습니다.')\n",
    "    if(len(buffer_rapid_stop)!=0):\n",
    "        print(len(DTGdata)/hz,'초 중 ',len(buffer_rapid_stop)/hz,'초 동안 급정지했습니다.')\n",
    "\n",
    "    return buffer_rapid_decel_period,buffer_rapid_stop_period"
   ]
  },
  {
   "cell_type": "code",
   "execution_count": 28,
   "metadata": {
    "collapsed": true
   },
   "outputs": [
    {
     "name": "stdout",
     "output_type": "stream",
     "text": [
      "539.6 초 중  28.8 초 동안 급감속했습니다.\n",
      "539.6 초 중  5.8 초 동안 급정지했습니다.\n"
     ]
    },
    {
     "data": {
      "text/plain": [
       "array([list([126, 133, 140, 140, 226, 230, 365, 372, 377, 378, 497, 501, 683, 685, 688, 696, 1021, 1028, 1094, 1095, 1130, 1135, 1217, 1223, 1273, 1278, 1411, 1419, 1636, 1641, 1831, 1839, 2294, 2300, 2310, 2322, 2439, 2447, 2449, 2451, 2542, 2547, 2666, 2671, 2679, 2682, 2690, 2691]),\n",
       "       list([17, 17, 45, 48, 52, 52, 58, 60, 62, 62, 134, 134, 141, 143, 231, 232, 244, 245, 379, 380, 398, 400, 2452, 2453, 2548, 2549, 2583, 2583, 2692, 2692])],\n",
       "      dtype=object)"
      ]
     },
     "execution_count": 28,
     "metadata": {},
     "output_type": "execute_result"
    }
   ],
   "source": [
    "np.array(check_rapid_brake(DTGdata,'truck'))"
   ]
  },
  {
   "cell_type": "code",
   "execution_count": 29,
   "metadata": {},
   "outputs": [],
   "source": [
    "def check_rapid_lane_change(DTGdata,vehicle):\n",
    "    \n",
    "    buffer_rapid_lanechange = []\n",
    "    buffer_rapid_overtake = []\n",
    "    \n",
    "    for i in range(vehicle_regulation[vehicle]['rapid_lanechange_time'],len(DTGdata)):\n",
    "        \n",
    "        is_rapid_lanechange = ((DTGdata['velocity'][i] >= vehicle_regulation[vehicle]['rapid_lanechange_threshold']) & \n",
    "                               (abs(DTGdata['heading'][i] - DTGdata['heading'][i-1]) >= vehicle_regulation[vehicle]['rapid_lanechange_angle']) & \n",
    "                               (abs(DTGdata['heading'][i] - DTGdata['heading'][i-5])/vehicle_regulation[vehicle]['rapid_lanechange_time'] <= vehicle_regulation[vehicle]['rapid_lanechange_cangle']) &\n",
    "                               (abs(DTGdata['velocity'][i] - DTGdata['velocity'][i-1]) <= vehicle_regulation[vehicle]['rapid_lanechange_defference']))\n",
    "                               \n",
    "        is_rapid_overtake = ((DTGdata['velocity'][i] >= vehicle_regulation[vehicle]['rapid_overtake_threshold']) & \n",
    "                               (abs(DTGdata['heading'][i] - DTGdata['heading'][i-1]) >= vehicle_regulation[vehicle]['rapid_overtake_angle']) & \n",
    "                               (abs(DTGdata['heading'][i] - DTGdata['heading'][i-5])/vehicle_regulation[vehicle]['rapid_lanechange_time'] <= vehicle_regulation[vehicle]['rapid_overtake_cangle']) &\n",
    "                               (abs(DTGdata['velocity'][i] - DTGdata['velocity'][i-1])<= vehicle_regulation[vehicle]['rapid_overtake_acceleration']))\n",
    "        \n",
    "        if is_rapid_lanechange:\n",
    "            buffer_rapid_lanechange.append(i)\n",
    "            \n",
    "        if is_rapid_overtake:\n",
    "            buffer_rapid_overtake.append(i)\n",
    "            \n",
    "    if(len(buffer_rapid_lanechange)!=0):\n",
    "        print(len(DTGdata),'초 중 ',len(buffer_rapid_lanechange),'초 동안 급차선변경했습니다.')\n",
    "    if(len(buffer_rapid_overtake)!=0):\n",
    "        print(len(DTGdata),'초 중 ',len(buffer_rapid_overtake),'초 동안 급앞지르기했습니다.')\n",
    "\n",
    "    return len(buffer_rapid_lanechange), len(buffer_rapid_overtake)"
   ]
  },
  {
   "cell_type": "code",
   "execution_count": 30,
   "metadata": {},
   "outputs": [
    {
     "data": {
      "text/plain": [
       "(0, 0)"
      ]
     },
     "execution_count": 30,
     "metadata": {},
     "output_type": "execute_result"
    }
   ],
   "source": [
    "check_rapid_lane_change(DTGdata,'taxi')"
   ]
  },
  {
   "cell_type": "code",
   "execution_count": 31,
   "metadata": {},
   "outputs": [],
   "source": [
    "def check_rapid_turn(DTGdata,vehicle):\n",
    "    \n",
    "    buffer_rapid_turn = []\n",
    "    buffer_rapid_uturn = []\n",
    "    turn_time = vehicle_regulation[vehicle]['rapid_turn_sec']\n",
    "    uturn_time = vehicle_regulation[vehicle]['rapid_uturn_sec']\n",
    "    \n",
    "    for i in range(vehicle_regulation[vehicle]['rapid_uturn_sec'],len(DTGdata)):\n",
    "        \n",
    "        is_rapid_turn = ((DTGdata['velocity'][i] >= vehicle_regulation[vehicle]['rapid_turn_threshold']) &\n",
    "                         (abs(DTGdata['heading'][i] - DTGdata['heading'][i-turn_time]) >= vehicle_regulation[vehicle]['rapid_turn_angle_start'])&\n",
    "                         (abs(DTGdata['heading'][i] - DTGdata['heading'][i-turn_time]) <= vehicle_regulation[vehicle]['rapid_turn_angle_end'])) \n",
    "        is_rapid_uturn = ((DTGdata['velocity'][i] >= vehicle_regulation[vehicle]['rapid_uturn_threshold']) &\n",
    "                         (abs(DTGdata['heading'][i] - DTGdata['heading'][i-uturn_time]) >= vehicle_regulation[vehicle]['rapid_uturn_angle_start'])&\n",
    "                         (abs(DTGdata['heading'][i] - DTGdata['heading'][i-uturn_time]) <= vehicle_regulation[vehicle]['rapid_uturn_angle_end'])) \n",
    "        \n",
    "        if is_rapid_turn:\n",
    "            buffer_rapid_turn.append(i)\n",
    "            \n",
    "        if is_rapid_uturn:\n",
    "            buffer_rapid_uturn.append(i)\n",
    "            \n",
    "    if(len(buffer_rapid_turn)!=0):\n",
    "        print(lend(DTGdata),'초 중 ',len(buffer_rapid_turn),'초 동안 급 좌/우회전했습니다.')\n",
    "    if(len(buffer_rapid_uturn)!=0):\n",
    "        print(lend(DTGdata),'초 중 ',len(buffer_rapid_uturn),'초 동안 급 U턴했습니다.')"
   ]
  },
  {
   "cell_type": "code",
   "execution_count": 32,
   "metadata": {},
   "outputs": [],
   "source": [
    "check_rapid_turn(DTGdata,'taxi')"
   ]
  },
  {
   "cell_type": "code",
   "execution_count": 33,
   "metadata": {},
   "outputs": [],
   "source": [
    "def check_long_term(DTGdata,vehicle):\n",
    "    \n",
    "    driving_time = len(DTGdata)\n",
    "    rest_time = len(DTGdata[(DTGdata['rpm']==0) & (DTGdata['velocity']==0)])\n",
    "    \n",
    "    if(driving_time >= vehicle_regulation[vehicle]['long_term_time']) & (rest_time <= vehicle_regulation[vehicle]['long_term_rest']):\n",
    "        print(driving_time,'초 중 ',rest_time,'초 동안 휴식했습니다.')\n",
    "        return driving_time,rest_time\n",
    "    \n",
    "    else: return 0"
   ]
  },
  {
   "cell_type": "code",
   "execution_count": 34,
   "metadata": {
    "scrolled": true
   },
   "outputs": [
    {
     "data": {
      "text/plain": [
       "0"
      ]
     },
     "execution_count": 34,
     "metadata": {},
     "output_type": "execute_result"
    }
   ],
   "source": [
    "check_long_term(DTGdata,'taxi')"
   ]
  },
  {
   "cell_type": "code",
   "execution_count": 35,
   "metadata": {},
   "outputs": [],
   "source": [
    "def check_regulation(DTGdata,vehicle):\n",
    "\n",
    "    check_over_speed(DTGdata,vehicle)\n",
    "    check_rapid_accel(DTGdata,vehicle)\n",
    "    check_rapid_brake(DTGdata,vehicle)\n",
    "    check_rapid_lane_change(DTGdata,vehicle)\n",
    "    check_rapid_turn(DTGdata,vehicle)\n",
    "    check_long_term(DTGdata,vehicle)"
   ]
  },
  {
   "cell_type": "code",
   "execution_count": 36,
   "metadata": {},
   "outputs": [
    {
     "name": "stdout",
     "output_type": "stream",
     "text": [
      "539.6 초 중  58.4 초 동안 과속했습니다.\n",
      "539.6 초 중  3.6 초 동안 급가속했습니다.\n",
      "539.6 초 중  0.4 초 동안 급출발했습니다.\n",
      "539.6 초 중  27.0 초 동안 급감속했습니다.\n",
      "539.6 초 중  7.6 초 동안 급정지했습니다.\n"
     ]
    }
   ],
   "source": [
    "check_regulation(DTGdata,'taxi')"
   ]
  }
 ],
 "metadata": {
  "kernelspec": {
   "display_name": "holysid",
   "language": "python",
   "name": "holysid"
  },
  "language_info": {
   "codemirror_mode": {
    "name": "ipython",
    "version": 3
   },
   "file_extension": ".py",
   "mimetype": "text/x-python",
   "name": "python",
   "nbconvert_exporter": "python",
   "pygments_lexer": "ipython3",
   "version": "3.7.7"
  }
 },
 "nbformat": 4,
 "nbformat_minor": 4
}
